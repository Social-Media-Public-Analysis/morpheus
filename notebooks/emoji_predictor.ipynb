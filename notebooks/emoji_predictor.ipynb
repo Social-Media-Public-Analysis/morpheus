{
 "cells": [
  {
   "cell_type": "code",
   "execution_count": 1,
   "id": "average-gender",
   "metadata": {},
   "outputs": [],
   "source": [
    "from murpheus import DataLoading\n",
    "from dask.distributed import Client\n",
    "import dask.dataframe as dd\n",
    "from emoji import UNICODE_EMOJI\n",
    "import re\n",
    "from sklearn.model_selection import train_test_split\n",
    "import emoji\n",
    "\n",
    "import tensorflow as tf\n",
    "from tqdm.notebook import tqdm\n",
    "\n",
    "from sklearn.feature_extraction.text import CountVectorizer\n",
    "from sklearn.feature_extraction.text import TfidfTransformer\n",
    "from sklearn.model_selection import train_test_split\n",
    "from sklearn import tree\n",
    "from xgboost import XGBClassifier\n",
    "from tpot import TPOTClassifier"
   ]
  },
  {
   "cell_type": "code",
   "execution_count": 2,
   "id": "tribal-purchase",
   "metadata": {},
   "outputs": [
    {
     "data": {
      "text/html": [
       "<table style=\"border: 2px solid white;\">\n",
       "<tr>\n",
       "<td style=\"vertical-align: top; border: 0px solid white\">\n",
       "<h3 style=\"text-align: left;\">Client</h3>\n",
       "<ul style=\"text-align: left; list-style: none; margin: 0; padding: 0;\">\n",
       "  <li><b>Scheduler: </b>tcp://127.0.0.1:42945</li>\n",
       "  <li><b>Dashboard: </b><a href='http://127.0.0.1:8787/status' target='_blank'>http://127.0.0.1:8787/status</a></li>\n",
       "</ul>\n",
       "</td>\n",
       "<td style=\"vertical-align: top; border: 0px solid white\">\n",
       "<h3 style=\"text-align: left;\">Cluster</h3>\n",
       "<ul style=\"text-align: left; list-style:none; margin: 0; padding: 0;\">\n",
       "  <li><b>Workers: </b>4</li>\n",
       "  <li><b>Cores: </b>4</li>\n",
       "  <li><b>Memory: </b>16.69 GB</li>\n",
       "</ul>\n",
       "</td>\n",
       "</tr>\n",
       "</table>"
      ],
      "text/plain": [
       "<Client: 'tcp://127.0.0.1:42945' processes=4 threads=4, memory=16.69 GB>"
      ]
     },
     "execution_count": 2,
     "metadata": {},
     "output_type": "execute_result"
    }
   ],
   "source": [
    "client = Client()\n",
    "client"
   ]
  },
  {
   "cell_type": "code",
   "execution_count": null,
   "id": "dominican-military",
   "metadata": {},
   "outputs": [],
   "source": [
    "# process daily data to \n",
    "# checking to see if there's an emoji in the text\n",
    "def is_emoji(s):\n",
    "    count = 0\n",
    "    for emoji in UNICODE_EMOJI:\n",
    "        count += s.count(emoji)\n",
    "        if count > 1:\n",
    "            return False\n",
    "    return bool(count)\n",
    "\n",
    "def extract_emojis(s):\n",
    "    return ''.join(c for c in s if c in UNICODE_EMOJI)\n",
    "\n",
    "for day in tqdm([1,2,4, 5, 6, 7, 8, 9, 10]):\n",
    "    day = f'0{day}' if len(str(day)) == 1 else str(day)\n",
    "    tweet_df = DataLoading().get_twitter_data_as_bags(f'../../data/06/{day}/**/*').to_dataframe()\n",
    "    # selecting only the english language\n",
    "    tweet_df = tweet_df[tweet_df['lang'] == 'en']\n",
    "    # removing all of the tweets that are truncated\n",
    "    tweet_df['is_full_tweet'] = tweet_df.apply(lambda x: x['text'][-1] != '…', axis=1, meta=bool)\n",
    "    tweet_df = tweet_df[tweet_df['is_full_tweet']]\n",
    "    tweet_df = tweet_df[tweet_df['text'].apply(is_emoji, meta=bool)]\n",
    "    tweet_df['emojis'] = tweet_df.apply(lambda x: extract_emojis(x['text']), axis=1, meta=str)\n",
    "    tweet_df['emojis_count'] = tweet_df.apply(lambda x: len(x['emojis']), meta=int, axis=1)\n",
    "    tweet_df['text_without_retweets'] = tweet_df['text'].apply(lambda x: re.sub(r'RT @(.+?):', '', x), meta=str)\n",
    "    tweet_df = tweet_df[tweet_df['emojis_count'] == 1]\n",
    "    tweet_df[['text_without_retweets', 'emojis']].to_csv(f'text_emoji_data/text_emoji_data-{day}-*.csv')"
   ]
  },
  {
   "cell_type": "code",
   "execution_count": 3,
   "id": "capable-netherlands",
   "metadata": {},
   "outputs": [
    {
     "data": {
      "text/html": [
       "<div><strong>Dask DataFrame Structure:</strong></div>\n",
       "<div>\n",
       "<style scoped>\n",
       "    .dataframe tbody tr th:only-of-type {\n",
       "        vertical-align: middle;\n",
       "    }\n",
       "\n",
       "    .dataframe tbody tr th {\n",
       "        vertical-align: top;\n",
       "    }\n",
       "\n",
       "    .dataframe thead th {\n",
       "        text-align: right;\n",
       "    }\n",
       "</style>\n",
       "<table border=\"1\" class=\"dataframe\">\n",
       "  <thead>\n",
       "    <tr style=\"text-align: right;\">\n",
       "      <th></th>\n",
       "      <th>text_without_retweets</th>\n",
       "      <th>emojis</th>\n",
       "    </tr>\n",
       "    <tr>\n",
       "      <th>npartitions=14102</th>\n",
       "      <th></th>\n",
       "      <th></th>\n",
       "    </tr>\n",
       "  </thead>\n",
       "  <tbody>\n",
       "    <tr>\n",
       "      <th></th>\n",
       "      <td>object</td>\n",
       "      <td>object</td>\n",
       "    </tr>\n",
       "    <tr>\n",
       "      <th></th>\n",
       "      <td>...</td>\n",
       "      <td>...</td>\n",
       "    </tr>\n",
       "    <tr>\n",
       "      <th>...</th>\n",
       "      <td>...</td>\n",
       "      <td>...</td>\n",
       "    </tr>\n",
       "    <tr>\n",
       "      <th></th>\n",
       "      <td>...</td>\n",
       "      <td>...</td>\n",
       "    </tr>\n",
       "    <tr>\n",
       "      <th></th>\n",
       "      <td>...</td>\n",
       "      <td>...</td>\n",
       "    </tr>\n",
       "  </tbody>\n",
       "</table>\n",
       "</div>\n",
       "<div>Dask Name: drop_by_shallow_copy, 28204 tasks</div>"
      ],
      "text/plain": [
       "Dask DataFrame Structure:\n",
       "                  text_without_retweets  emojis\n",
       "npartitions=14102                              \n",
       "                                 object  object\n",
       "                                    ...     ...\n",
       "...                                 ...     ...\n",
       "                                    ...     ...\n",
       "                                    ...     ...\n",
       "Dask Name: drop_by_shallow_copy, 28204 tasks"
      ]
     },
     "execution_count": 3,
     "metadata": {},
     "output_type": "execute_result"
    }
   ],
   "source": [
    "tweet_df = dd.read_csv('../../text_emoji_data/text_emoji_data-*.csv')\n",
    "del tweet_df['Unnamed: 0']\n",
    "tweet_df"
   ]
  },
  {
   "cell_type": "code",
   "execution_count": 4,
   "id": "painted-warehouse",
   "metadata": {},
   "outputs": [
    {
     "data": {
      "text/html": [
       "<div>\n",
       "<style scoped>\n",
       "    .dataframe tbody tr th:only-of-type {\n",
       "        vertical-align: middle;\n",
       "    }\n",
       "\n",
       "    .dataframe tbody tr th {\n",
       "        vertical-align: top;\n",
       "    }\n",
       "\n",
       "    .dataframe thead th {\n",
       "        text-align: right;\n",
       "    }\n",
       "</style>\n",
       "<table border=\"1\" class=\"dataframe\">\n",
       "  <thead>\n",
       "    <tr style=\"text-align: right;\">\n",
       "      <th></th>\n",
       "      <th>text_without_retweets</th>\n",
       "      <th>emojis</th>\n",
       "    </tr>\n",
       "  </thead>\n",
       "  <tbody>\n",
       "    <tr>\n",
       "      <th>0</th>\n",
       "      <td>My dropbox is free as soon as you join my onl...</td>\n",
       "      <td>💓</td>\n",
       "    </tr>\n",
       "    <tr>\n",
       "      <th>1</th>\n",
       "      <td>Ppl born 1999-2003 the last of the elite 🤝</td>\n",
       "      <td>🤝</td>\n",
       "    </tr>\n",
       "    <tr>\n",
       "      <th>2</th>\n",
       "      <td>Why i ain’t liking a good series in prime rath...</td>\n",
       "      <td>🤔</td>\n",
       "    </tr>\n",
       "    <tr>\n",
       "      <th>3</th>\n",
       "      <td>u not lying and fyi the bleach, mha and op one...</td>\n",
       "      <td>👀</td>\n",
       "    </tr>\n",
       "    <tr>\n",
       "      <th>4</th>\n",
       "      <td>When bae say pull up 😜</td>\n",
       "      <td>😜</td>\n",
       "    </tr>\n",
       "  </tbody>\n",
       "</table>\n",
       "</div>"
      ],
      "text/plain": [
       "                               text_without_retweets emojis\n",
       "0   My dropbox is free as soon as you join my onl...      💓\n",
       "1         Ppl born 1999-2003 the last of the elite 🤝      🤝\n",
       "2  Why i ain’t liking a good series in prime rath...      🤔\n",
       "3  u not lying and fyi the bleach, mha and op one...      👀\n",
       "4                             When bae say pull up 😜      😜"
      ]
     },
     "execution_count": 4,
     "metadata": {},
     "output_type": "execute_result"
    }
   ],
   "source": [
    "tweet_df = tweet_df.persist()\n",
    "tweet_df.head()"
   ]
  },
  {
   "cell_type": "code",
   "execution_count": 5,
   "id": "prescription-railway",
   "metadata": {},
   "outputs": [
    {
     "data": {
      "text/html": [
       "<div>\n",
       "<style scoped>\n",
       "    .dataframe tbody tr th:only-of-type {\n",
       "        vertical-align: middle;\n",
       "    }\n",
       "\n",
       "    .dataframe tbody tr th {\n",
       "        vertical-align: top;\n",
       "    }\n",
       "\n",
       "    .dataframe thead th {\n",
       "        text-align: right;\n",
       "    }\n",
       "</style>\n",
       "<table border=\"1\" class=\"dataframe\">\n",
       "  <thead>\n",
       "    <tr style=\"text-align: right;\">\n",
       "      <th></th>\n",
       "      <th>text_without_retweets</th>\n",
       "    </tr>\n",
       "    <tr>\n",
       "      <th>emojis</th>\n",
       "      <th></th>\n",
       "    </tr>\n",
       "  </thead>\n",
       "  <tbody>\n",
       "    <tr>\n",
       "      <th>✨</th>\n",
       "      <td>15256</td>\n",
       "    </tr>\n",
       "    <tr>\n",
       "      <th>❗</th>\n",
       "      <td>2257</td>\n",
       "    </tr>\n",
       "    <tr>\n",
       "      <th>🌈</th>\n",
       "      <td>2440</td>\n",
       "    </tr>\n",
       "    <tr>\n",
       "      <th>🐰</th>\n",
       "      <td>1395</td>\n",
       "    </tr>\n",
       "    <tr>\n",
       "      <th>👀</th>\n",
       "      <td>14966</td>\n",
       "    </tr>\n",
       "    <tr>\n",
       "      <th>...</th>\n",
       "      <td>...</td>\n",
       "    </tr>\n",
       "    <tr>\n",
       "      <th>🕣</th>\n",
       "      <td>1</td>\n",
       "    </tr>\n",
       "    <tr>\n",
       "      <th>🕡</th>\n",
       "      <td>1</td>\n",
       "    </tr>\n",
       "    <tr>\n",
       "      <th>⛹</th>\n",
       "      <td>1</td>\n",
       "    </tr>\n",
       "    <tr>\n",
       "      <th>🗂</th>\n",
       "      <td>1</td>\n",
       "    </tr>\n",
       "    <tr>\n",
       "      <th>⬅</th>\n",
       "      <td>1</td>\n",
       "    </tr>\n",
       "  </tbody>\n",
       "</table>\n",
       "<p>1212 rows × 1 columns</p>\n",
       "</div>"
      ],
      "text/plain": [
       "        text_without_retweets\n",
       "emojis                       \n",
       "✨                       15256\n",
       "❗                        2257\n",
       "🌈                        2440\n",
       "🐰                        1395\n",
       "👀                       14966\n",
       "...                       ...\n",
       "🕣                           1\n",
       "🕡                           1\n",
       "⛹                           1\n",
       "🗂                           1\n",
       "⬅                           1\n",
       "\n",
       "[1212 rows x 1 columns]"
      ]
     },
     "execution_count": 5,
     "metadata": {},
     "output_type": "execute_result"
    }
   ],
   "source": [
    "emoji_counts = tweet_df.groupby('emojis').count().compute()\n",
    "emoji_counts"
   ]
  },
  {
   "cell_type": "code",
   "execution_count": 6,
   "id": "about-compilation",
   "metadata": {},
   "outputs": [
    {
     "data": {
      "text/html": [
       "<div>\n",
       "<style scoped>\n",
       "    .dataframe tbody tr th:only-of-type {\n",
       "        vertical-align: middle;\n",
       "    }\n",
       "\n",
       "    .dataframe tbody tr th {\n",
       "        vertical-align: top;\n",
       "    }\n",
       "\n",
       "    .dataframe thead th {\n",
       "        text-align: right;\n",
       "    }\n",
       "</style>\n",
       "<table border=\"1\" class=\"dataframe\">\n",
       "  <thead>\n",
       "    <tr style=\"text-align: right;\">\n",
       "      <th></th>\n",
       "      <th>emojis</th>\n",
       "      <th>text_without_retweets</th>\n",
       "    </tr>\n",
       "  </thead>\n",
       "  <tbody>\n",
       "    <tr>\n",
       "      <th>0</th>\n",
       "      <td>😂</td>\n",
       "      <td>86490</td>\n",
       "    </tr>\n",
       "    <tr>\n",
       "      <th>1</th>\n",
       "      <td>😭</td>\n",
       "      <td>69582</td>\n",
       "    </tr>\n",
       "    <tr>\n",
       "      <th>2</th>\n",
       "      <td>🥺</td>\n",
       "      <td>55849</td>\n",
       "    </tr>\n",
       "    <tr>\n",
       "      <th>3</th>\n",
       "      <td>🤔</td>\n",
       "      <td>23596</td>\n",
       "    </tr>\n",
       "    <tr>\n",
       "      <th>4</th>\n",
       "      <td>🤣</td>\n",
       "      <td>23363</td>\n",
       "    </tr>\n",
       "    <tr>\n",
       "      <th>5</th>\n",
       "      <td>😍</td>\n",
       "      <td>23106</td>\n",
       "    </tr>\n",
       "    <tr>\n",
       "      <th>6</th>\n",
       "      <td>🥰</td>\n",
       "      <td>18526</td>\n",
       "    </tr>\n",
       "    <tr>\n",
       "      <th>7</th>\n",
       "      <td>😔</td>\n",
       "      <td>17402</td>\n",
       "    </tr>\n",
       "    <tr>\n",
       "      <th>8</th>\n",
       "      <td>✨</td>\n",
       "      <td>15256</td>\n",
       "    </tr>\n",
       "    <tr>\n",
       "      <th>9</th>\n",
       "      <td>👀</td>\n",
       "      <td>14966</td>\n",
       "    </tr>\n",
       "  </tbody>\n",
       "</table>\n",
       "</div>"
      ],
      "text/plain": [
       "  emojis  text_without_retweets\n",
       "0      😂                  86490\n",
       "1      😭                  69582\n",
       "2      🥺                  55849\n",
       "3      🤔                  23596\n",
       "4      🤣                  23363\n",
       "5      😍                  23106\n",
       "6      🥰                  18526\n",
       "7      😔                  17402\n",
       "8      ✨                  15256\n",
       "9      👀                  14966"
      ]
     },
     "execution_count": 6,
     "metadata": {},
     "output_type": "execute_result"
    }
   ],
   "source": [
    "emoji_counts = emoji_counts.sort_values('text_without_retweets', ascending=False).head(10)\n",
    "emoji_counts = emoji_counts.reset_index()\n",
    "emoji_counts"
   ]
  },
  {
   "cell_type": "code",
   "execution_count": 7,
   "id": "indonesian-arrangement",
   "metadata": {},
   "outputs": [
    {
     "data": {
      "text/plain": [
       "348136"
      ]
     },
     "execution_count": 7,
     "metadata": {},
     "output_type": "execute_result"
    }
   ],
   "source": [
    "tweet_df_training_data = tweet_df.loc[tweet_df.emojis.isin(emoji_counts.emojis)]\n",
    "tweet_df_training_data.shape[0].compute()"
   ]
  },
  {
   "cell_type": "code",
   "execution_count": 8,
   "id": "martial-glass",
   "metadata": {},
   "outputs": [],
   "source": [
    "_demojifier_regex = r':.+?:'\n",
    "_username_regex = r'@.+? '\n",
    "\n",
    "def _remove_emojis(string: str):\n",
    "    string = emoji.demojize(string)\n",
    "    return re.sub(_demojifier_regex, '', string)\n",
    "\n",
    "def filter_emoji(twitter_dataframe):\n",
    "    twitter_dataframe['text_without_retweets'] = twitter_dataframe['text_without_retweets'].apply(_remove_emojis, meta=str)\n",
    "    return twitter_dataframe\n",
    "\n",
    "def _remove_username(string: str):\n",
    "    return re.sub(_username_regex, '', string)\n",
    "\n",
    "def filter_username(twitter_dataframe):\n",
    "    twitter_dataframe['text_without_retweets'] = twitter_dataframe['text_without_retweets'].apply(_remove_username, meta=str)\n",
    "    return twitter_dataframe"
   ]
  },
  {
   "cell_type": "code",
   "execution_count": 9,
   "id": "complete-surfing",
   "metadata": {},
   "outputs": [
    {
     "data": {
      "text/html": [
       "<div><strong>Dask DataFrame Structure:</strong></div>\n",
       "<div>\n",
       "<style scoped>\n",
       "    .dataframe tbody tr th:only-of-type {\n",
       "        vertical-align: middle;\n",
       "    }\n",
       "\n",
       "    .dataframe tbody tr th {\n",
       "        vertical-align: top;\n",
       "    }\n",
       "\n",
       "    .dataframe thead th {\n",
       "        text-align: right;\n",
       "    }\n",
       "</style>\n",
       "<table border=\"1\" class=\"dataframe\">\n",
       "  <thead>\n",
       "    <tr style=\"text-align: right;\">\n",
       "      <th></th>\n",
       "      <th>text_without_retweets</th>\n",
       "      <th>emojis</th>\n",
       "    </tr>\n",
       "    <tr>\n",
       "      <th>npartitions=14102</th>\n",
       "      <th></th>\n",
       "      <th></th>\n",
       "    </tr>\n",
       "  </thead>\n",
       "  <tbody>\n",
       "    <tr>\n",
       "      <th></th>\n",
       "      <td>object</td>\n",
       "      <td>object</td>\n",
       "    </tr>\n",
       "    <tr>\n",
       "      <th></th>\n",
       "      <td>...</td>\n",
       "      <td>...</td>\n",
       "    </tr>\n",
       "    <tr>\n",
       "      <th>...</th>\n",
       "      <td>...</td>\n",
       "      <td>...</td>\n",
       "    </tr>\n",
       "    <tr>\n",
       "      <th></th>\n",
       "      <td>...</td>\n",
       "      <td>...</td>\n",
       "    </tr>\n",
       "    <tr>\n",
       "      <th></th>\n",
       "      <td>...</td>\n",
       "      <td>...</td>\n",
       "    </tr>\n",
       "  </tbody>\n",
       "</table>\n",
       "</div>\n",
       "<div>Dask Name: assign, 141021 tasks</div>"
      ],
      "text/plain": [
       "Dask DataFrame Structure:\n",
       "                  text_without_retweets  emojis\n",
       "npartitions=14102                              \n",
       "                                 object  object\n",
       "                                    ...     ...\n",
       "...                                 ...     ...\n",
       "                                    ...     ...\n",
       "                                    ...     ...\n",
       "Dask Name: assign, 141021 tasks"
      ]
     },
     "execution_count": 9,
     "metadata": {},
     "output_type": "execute_result"
    }
   ],
   "source": [
    "tweet_df_training_data = filter_emoji(tweet_df_training_data)\n",
    "tweet_df_training_data = filter_username(tweet_df_training_data)\n",
    "tweet_df_training_data"
   ]
  },
  {
   "cell_type": "code",
   "execution_count": 10,
   "id": "coral-retrieval",
   "metadata": {},
   "outputs": [
    {
     "data": {
      "text/html": [
       "<div>\n",
       "<style scoped>\n",
       "    .dataframe tbody tr th:only-of-type {\n",
       "        vertical-align: middle;\n",
       "    }\n",
       "\n",
       "    .dataframe tbody tr th {\n",
       "        vertical-align: top;\n",
       "    }\n",
       "\n",
       "    .dataframe thead th {\n",
       "        text-align: right;\n",
       "    }\n",
       "</style>\n",
       "<table border=\"1\" class=\"dataframe\">\n",
       "  <thead>\n",
       "    <tr style=\"text-align: right;\">\n",
       "      <th></th>\n",
       "      <th>text_without_retweets</th>\n",
       "      <th>emojis</th>\n",
       "    </tr>\n",
       "  </thead>\n",
       "  <tbody>\n",
       "    <tr>\n",
       "      <th>2</th>\n",
       "      <td>Why i ain’t liking a good series in prime rath...</td>\n",
       "      <td>🤔</td>\n",
       "    </tr>\n",
       "    <tr>\n",
       "      <th>3</th>\n",
       "      <td>u not lying and fyi the bleach, mha and op one...</td>\n",
       "      <td>👀</td>\n",
       "    </tr>\n",
       "    <tr>\n",
       "      <th>9</th>\n",
       "      <td>how #Anonymous pulled up to support the polit...</td>\n",
       "      <td>👀</td>\n",
       "    </tr>\n",
       "    <tr>\n",
       "      <th>13</th>\n",
       "      <td>Chicken skin  https://t.co/ERf1kS5jpz</td>\n",
       "      <td>😍</td>\n",
       "    </tr>\n",
       "    <tr>\n",
       "      <th>15</th>\n",
       "      <td>yes pls</td>\n",
       "      <td>😭</td>\n",
       "    </tr>\n",
       "    <tr>\n",
       "      <th>...</th>\n",
       "      <td>...</td>\n",
       "      <td>...</td>\n",
       "    </tr>\n",
       "    <tr>\n",
       "      <th>49</th>\n",
       "      <td>Funny how one bad protester labels the whole ...</td>\n",
       "      <td>🤔</td>\n",
       "    </tr>\n",
       "    <tr>\n",
       "      <th>54</th>\n",
       "      <td>I’m dead!  #AmericaOrTrump https://t.co/0qobg...</td>\n",
       "      <td>🤣</td>\n",
       "    </tr>\n",
       "    <tr>\n",
       "      <th>63</th>\n",
       "      <td>Vernon SEVENTEEN  nder\\nhttps://t.co/OK2LnKkGyK</td>\n",
       "      <td>😍</td>\n",
       "    </tr>\n",
       "    <tr>\n",
       "      <th>68</th>\n",
       "      <td>I’m very  Rn</td>\n",
       "      <td>🥰</td>\n",
       "    </tr>\n",
       "    <tr>\n",
       "      <th>71</th>\n",
       "      <td>sexy ha</td>\n",
       "      <td>🥺</td>\n",
       "    </tr>\n",
       "  </tbody>\n",
       "</table>\n",
       "<p>348136 rows × 2 columns</p>\n",
       "</div>"
      ],
      "text/plain": [
       "                                text_without_retweets emojis\n",
       "2   Why i ain’t liking a good series in prime rath...      🤔\n",
       "3   u not lying and fyi the bleach, mha and op one...      👀\n",
       "9    how #Anonymous pulled up to support the polit...      👀\n",
       "13              Chicken skin  https://t.co/ERf1kS5jpz      😍\n",
       "15                                           yes pls       😭\n",
       "..                                                ...    ...\n",
       "49   Funny how one bad protester labels the whole ...      🤔\n",
       "54   I’m dead!  #AmericaOrTrump https://t.co/0qobg...      🤣\n",
       "63    Vernon SEVENTEEN  nder\\nhttps://t.co/OK2LnKkGyK      😍\n",
       "68                                       I’m very  Rn      🥰\n",
       "71                                           sexy ha       🥺\n",
       "\n",
       "[348136 rows x 2 columns]"
      ]
     },
     "execution_count": 10,
     "metadata": {},
     "output_type": "execute_result"
    }
   ],
   "source": [
    "tweet_df_training_data = tweet_df_training_data.compute()\n",
    "tweet_df_training_data"
   ]
  },
  {
   "cell_type": "code",
   "execution_count": 11,
   "id": "peaceful-rainbow",
   "metadata": {},
   "outputs": [
    {
     "data": {
      "text/plain": [
       "<348136x126175 sparse matrix of type '<class 'numpy.int64'>'\n",
       "\twith 3212124 stored elements in Compressed Sparse Row format>"
      ]
     },
     "execution_count": 11,
     "metadata": {},
     "output_type": "execute_result"
    }
   ],
   "source": [
    "X_counts = CountVectorizer().fit_transform(tweet_df_training_data['text_without_retweets'].to_numpy())\n",
    "X_counts"
   ]
  },
  {
   "cell_type": "code",
   "execution_count": 12,
   "id": "pacific-peninsula",
   "metadata": {},
   "outputs": [],
   "source": [
    "X = TfidfTransformer(use_idf=True).fit_transform(X_counts)\n",
    "y = tweet_df_training_data['emojis'].to_numpy()"
   ]
  },
  {
   "cell_type": "code",
   "execution_count": 13,
   "id": "covered-supplier",
   "metadata": {},
   "outputs": [
    {
     "data": {
      "text/plain": [
       "<261102x126175 sparse matrix of type '<class 'numpy.float64'>'\n",
       "\twith 2407948 stored elements in Compressed Sparse Row format>"
      ]
     },
     "execution_count": 13,
     "metadata": {},
     "output_type": "execute_result"
    }
   ],
   "source": [
    "X_train, X_test, y_train, y_test = train_test_split(X, y, test_size=0.25, random_state=42)\n",
    "X_train"
   ]
  },
  {
   "cell_type": "code",
   "execution_count": null,
   "id": "happy-machine",
   "metadata": {},
   "outputs": [],
   "source": [
    "clf = tree.DecisionTreeClassifier()\n",
    "clf = clf.fit(X_train, y_train)\n",
    "print(clf.score(X_test, y_test))"
   ]
  },
  {
   "cell_type": "code",
   "execution_count": null,
   "id": "vertical-transmission",
   "metadata": {},
   "outputs": [],
   "source": [
    "model = XGBClassifier()\n",
    "model.fit(X_train, y_train, verbose=1)\n",
    "model.score(X_test, y_test)"
   ]
  },
  {
   "cell_type": "code",
   "execution_count": 14,
   "id": "traditional-american",
   "metadata": {},
   "outputs": [
    {
     "data": {
      "text/plain": [
       "TPOTClassifier(config_dict='TPOT sparse', generations=20, n_jobs=-1,\n",
       "               population_size=50, random_state=42, verbosity=2)"
      ]
     },
     "execution_count": 14,
     "metadata": {},
     "output_type": "execute_result"
    }
   ],
   "source": [
    "model_tpot = TPOTClassifier(generations=20, \n",
    "                            population_size=50,\n",
    "                            verbosity=2, \n",
    "                            random_state=42, \n",
    "                            n_jobs=-1,\n",
    "                            config_dict = 'TPOT sparse')\n",
    "model_tpot"
   ]
  },
  {
   "cell_type": "code",
   "execution_count": 15,
   "id": "endless-sterling",
   "metadata": {},
   "outputs": [
    {
     "data": {
      "application/vnd.jupyter.widget-view+json": {
       "model_id": "",
       "version_major": 2,
       "version_minor": 0
      },
      "text/plain": [
       "Optimization Progress:   0%|          | 0/1050 [00:00<?, ?pipeline/s]"
      ]
     },
     "metadata": {},
     "output_type": "display_data"
    },
    {
     "name": "stdout",
     "output_type": "stream",
     "text": [
      "\n",
      "Generation 1 - Current best internal CV score: 0.5702177543161271\n",
      "\n",
      "Generation 2 - Current best internal CV score: 0.5707156504104529\n",
      "\n",
      "Generation 3 - Current best internal CV score: 0.5707156504104529\n",
      "\n",
      "Generation 4 - Current best internal CV score: 0.5798117107997636\n",
      "\n",
      "Generation 5 - Current best internal CV score: 0.5798117107997636\n",
      "\n",
      "Generation 6 - Current best internal CV score: 0.5870042981823611\n",
      "\n",
      "Generation 7 - Current best internal CV score: 0.5870042981823611\n",
      "\n",
      "Generation 8 - Current best internal CV score: 0.5870042981823611\n",
      "\n",
      "Generation 9 - Current best internal CV score: 0.5870042981823611\n",
      "\n",
      "Generation 10 - Current best internal CV score: 0.5870042981823611\n",
      "\n",
      "Generation 11 - Current best internal CV score: 0.5870042981823611\n",
      "\n",
      "Generation 12 - Current best internal CV score: 0.5870042981823611\n"
     ]
    },
    {
     "name": "stderr",
     "output_type": "stream",
     "text": [
      "Exception ignored in: <function WeakSet.__init__.<locals>._remove at 0x7f30cacef670>\n",
      "Traceback (most recent call last):\n",
      "  File \"/home/v2thegreat/miniconda3/envs/murphy/lib/python3.8/_weakrefset.py\", line 38, in _remove\n",
      "    def _remove(item, selfref=ref(self)):\n",
      "stopit.utils.TimeoutException: \n"
     ]
    },
    {
     "name": "stdout",
     "output_type": "stream",
     "text": [
      "\n",
      "Generation 13 - Current best internal CV score: 0.5870042981823611\n",
      "\n",
      "Generation 14 - Current best internal CV score: 0.5870042981823611\n",
      "\n",
      "Generation 15 - Current best internal CV score: 0.5870042981823611\n",
      "\n",
      "Generation 16 - Current best internal CV score: 0.5878622048293105\n",
      "\n",
      "Generation 17 - Current best internal CV score: 0.5878622048293105\n",
      "\n",
      "Generation 18 - Current best internal CV score: 0.5878622048293105\n",
      "\n",
      "Generation 19 - Current best internal CV score: 0.5879771030422651\n",
      "\n",
      "Generation 20 - Current best internal CV score: 0.5879771030422651\n",
      "\n",
      "Best pipeline: LinearSVC(input_matrix, C=0.5, dual=True, loss=squared_hinge, penalty=l2, tol=0.0001)\n"
     ]
    },
    {
     "data": {
      "text/plain": [
       "TPOTClassifier(config_dict='TPOT sparse', generations=20, n_jobs=-1,\n",
       "               population_size=50, random_state=42, verbosity=2)"
      ]
     },
     "execution_count": 15,
     "metadata": {},
     "output_type": "execute_result"
    }
   ],
   "source": [
    "model_tpot.fit(X_train, y_train)"
   ]
  },
  {
   "cell_type": "code",
   "execution_count": 16,
   "id": "enclosed-extension",
   "metadata": {},
   "outputs": [],
   "source": [
    "model_tpot.export('test_model_2.py')"
   ]
  }
 ],
 "metadata": {
  "kernelspec": {
   "display_name": "Python 3",
   "language": "python",
   "name": "python3"
  },
  "language_info": {
   "codemirror_mode": {
    "name": "ipython",
    "version": 3
   },
   "file_extension": ".py",
   "mimetype": "text/x-python",
   "name": "python",
   "nbconvert_exporter": "python",
   "pygments_lexer": "ipython3",
   "version": "3.8.5"
  }
 },
 "nbformat": 4,
 "nbformat_minor": 5
}
